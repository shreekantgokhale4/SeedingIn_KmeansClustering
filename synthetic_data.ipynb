{
 "cells": [
  {
   "cell_type": "code",
   "execution_count": 3,
   "metadata": {},
   "outputs": [],
   "source": [
    "import time\n",
    "import pandas as pd\n",
    "import numpy as np\n",
    "import matplotlib.pyplot as plt\n",
    "from random import choices\n",
    "from random import randint"
   ]
  },
  {
   "cell_type": "code",
   "execution_count": 4,
   "metadata": {},
   "outputs": [],
   "source": [
    "def Dsq_init(df, k):\n",
    "    centroid = data.sample()\n",
    "    while centroid.shape[0] < k:\n",
    "        min_dist = euclid_dist(df, centroid)\n",
    "        prob = list()\n",
    "        for i in range(df.shape[0]):\n",
    "            prob.append((min_dist[i]**2)/np.sum(min_dist**2))\n",
    "        #df[\"prob\"] = prob\n",
    "        id = choices(df.index.values.tolist(), prob)\n",
    "        centroid = centroid.append(df.iloc[id, :])\n",
    "\n",
    "    return centroid\n"
   ]
  },
  {
   "cell_type": "code",
   "execution_count": 5,
   "metadata": {},
   "outputs": [],
   "source": [
    "def euclid_dist(df1, df2):\n",
    "    dist_mat = np.zeros(shape=(df1.shape[0], df2.shape[0]))\n",
    "    for id1, row1 in df1.iterrows():\n",
    "        j = 0\n",
    "        for id2, row2 in df2.iterrows():\n",
    "            a = [row1[\"X\"]-row2[\"X\"], row1[\"Y\"]-row2[\"Y\"]]\n",
    "            dist_mat[id1][j] = np.linalg.norm(a)\n",
    "            j += 1\n",
    "    min_dist = dist_mat.min(axis=1)\n",
    "    return min_dist"
   ]
  },
  {
   "cell_type": "code",
   "execution_count": 6,
   "metadata": {},
   "outputs": [],
   "source": [
    "def k_means_fit(X, centroids, n):\n",
    "    # get a copy of the original data\n",
    "    X_data = X\n",
    "\n",
    "    diff = 1\n",
    "    j = 0\n",
    "    No_iter = 0\n",
    "\n",
    "    while(diff != 0):\n",
    "\n",
    "        # creating a copy of the original dataframe\n",
    "        i = 1\n",
    "\n",
    "        # iterate over each centroid point\n",
    "        for index1, row_c in centroids.iterrows():\n",
    "            ED = []\n",
    "\n",
    "            # iterate over each data point\n",
    "            for index2, row_d in X_data.iterrows():\n",
    "\n",
    "                # calculate distance between current point and centroid\n",
    "                d1 = (row_c[\"X\"]-row_d[\"X\"])**2\n",
    "                d2 = (row_c[\"Y\"]-row_d[\"Y\"])**2\n",
    "                d = np.sqrt(d1+d2)\n",
    "\n",
    "                # append distance in a list 'ED'\n",
    "                ED.append(d)\n",
    "\n",
    "            # append distace for a centroid in original data frame\n",
    "            X[i] = ED\n",
    "            i = i+1\n",
    "\n",
    "        C = []\n",
    "        for index, row in X.iterrows():\n",
    "\n",
    "            # get distance from centroid of current data point\n",
    "            min_dist = row[1]\n",
    "            pos = 1\n",
    "\n",
    "            # loop to locate the closest centroid to current point\n",
    "            for i in range(n):\n",
    "\n",
    "                # if current distance is greater than that of other centroids\n",
    "                if row[i+1] < min_dist:\n",
    "\n",
    "                    # the smaller distanc becomes the minimum distance\n",
    "                    min_dist = row[i+1]\n",
    "                    pos = i+1\n",
    "            C.append(pos)\n",
    "\n",
    "        # assigning the closest cluster to each data point\n",
    "        X[\"Cluster\"] = C\n",
    "\n",
    "        # grouping each cluster by their mean value to create new centroids\n",
    "        centroids_new = X.groupby([\"Cluster\"]).mean()[[\"Y\", \"X\"]]\n",
    "        if j == 0:\n",
    "            diff = 1\n",
    "            j = j+1\n",
    "\n",
    "        else:\n",
    "            # check if there is a difference between old and new centroids\n",
    "            diff = (centroids_new['Y'] - centroids['Y']).sum() + \\\n",
    "                (centroids_new['X'] - centroids['X']).sum()\n",
    "            No_iter += 1\n",
    "            # print(diff.sum())\n",
    "\n",
    "        centroids = X.groupby([\"Cluster\"]).mean()[[\"Y\", \"X\"]]\n",
    "\n",
    "    return X, centroids, No_iter\n"
   ]
  },
  {
   "cell_type": "code",
   "execution_count": 7,
   "metadata": {},
   "outputs": [],
   "source": [
    "def k_means(data, k):\n",
    "    # k = int(input(\"No, of Clusters: \"))\n",
    "    centroids = data.sample(k)\n",
    "    clustered, cent, No_iter1 = k_means_fit(data, centroids, k)\n",
    "    cost = np.sum(euclid_dist(data, cent))\n",
    "\n",
    "    return cost, No_iter1\n"
   ]
  },
  {
   "cell_type": "code",
   "execution_count": 8,
   "metadata": {},
   "outputs": [],
   "source": [
    "def k_means_plot(data, k):\n",
    "    # k = int(input(\"No, of Clusters: \"))\n",
    "    centroids = data.sample(k)\n",
    "    clustered, cent, No_iter1 = k_means_fit(data, centroids, k)\n",
    "\n",
    "    color = ['brown', 'blue', 'green', 'cyan', 'black', 'y']\n",
    "\n",
    "    # plot data\n",
    "    for k in range(len(color)):\n",
    "        cluster = clustered[clustered[\"Cluster\"] == k+1]\n",
    "        plt.scatter(cluster[\"X\"], cluster[\"Y\"], c=color[k])\n",
    "\n",
    "    # plot centroids\n",
    "    plt.scatter(cent[\"X\"], cent[\"Y\"], c='red')\n",
    "    plt.xlabel('X')\n",
    "    plt.ylabel('Y')\n"
   ]
  },
  {
   "cell_type": "code",
   "execution_count": 9,
   "metadata": {},
   "outputs": [],
   "source": [
    "def k_means_Dsq(data, k):\n",
    "    #k = int(input(\"No, of Clusters: \"))\n",
    "    centroids = Dsq_init(data, k)\n",
    "    clustered, cent, No_iter2 = k_means_fit(data, centroids, k)\n",
    "    cost = np.sum(euclid_dist(data, cent))\n",
    "\n",
    "    return cost, No_iter2\n"
   ]
  },
  {
   "cell_type": "code",
   "execution_count": 10,
   "metadata": {},
   "outputs": [],
   "source": [
    "def k_means_Dsq_plot(data, k):\n",
    "    #k = int(input(\"No, of Clusters: \"))\n",
    "    centroids = Dsq_init(data, k)\n",
    "    clustered, cent, No_iter2 = k_means_fit(data, centroids, k)\n",
    "\n",
    "    color = ['brown', 'blue', 'green', 'cyan', 'black', 'y']\n",
    "    # plot data\n",
    "    for k in range(len(color)):\n",
    "        cluster = clustered[clustered[\"Cluster\"] == k+1]\n",
    "        plt.scatter(cluster[\"X\"], cluster[\"Y\"], c=color[k])\n",
    "\n",
    "    # plot centroids\n",
    "    plt.scatter(cent[\"X\"], cent[\"Y\"], c='red')\n",
    "    plt.xlabel('X')\n",
    "    plt.ylabel('Y')\n"
   ]
  },
  {
   "cell_type": "code",
   "execution_count": 26,
   "metadata": {},
   "outputs": [
    {
     "name": "stdout",
     "output_type": "stream",
     "text": [
      "(3314, 2)\n",
      "[250, 328, 131, 468, 341, 192, 474, 228, 492, 409]\n"
     ]
    }
   ],
   "source": [
    "mean = np.matrix([[10, 10], [-5, -7], [12, -2], [1, 9], [17, -0.5], [26, 18], [-15, 15], [0, -9], [0, -20], [22, -20]])\n",
    "data = np.matrix([[0, 0]])\n",
    "n = []\n",
    "for i in range(mean.shape[0]):\n",
    "    n.append(randint(100, 500))\n",
    "    normal_2D = np.random.laplace(0, 3, (2,n[i]))\n",
    "    fin = normal_2D.T + mean[i]\n",
    "    data = np.vstack([data, fin])\n",
    "\n",
    "print(data.shape)\n",
    "print(n)"
   ]
  },
  {
   "cell_type": "code",
   "execution_count": 27,
   "metadata": {},
   "outputs": [
    {
     "data": {
      "text/plain": [
       "<matplotlib.collections.PathCollection at 0x15e5db003a0>"
      ]
     },
     "execution_count": 27,
     "metadata": {},
     "output_type": "execute_result"
    },
    {
     "data": {
      "image/png": "[encoded data removed]",
      "text/plain": [
       "<Figure size 432x288 with 1 Axes>"
      ]
     },
     "metadata": {
      "needs_background": "light"
     },
     "output_type": "display_data"
    }
   ],
   "source": [
    "data = pd.DataFrame(data[1:, :], columns=['X', 'Y'])\n",
    "centres = Dsq_init(data, 10)\n",
    "rand_centres = data.sample(10)\n",
    "plt.scatter(data['X'], data['Y'])\n",
    "plt.scatter(centres['X'], centres['Y'], c='r')\n",
    "plt.scatter(rand_centres['X'], rand_centres['Y'], c='black')\n"
   ]
  },
  {
   "cell_type": "code",
   "execution_count": 28,
   "metadata": {},
   "outputs": [
    {
     "name": "stdout",
     "output_type": "stream",
     "text": [
      "####################################################################################################\n",
      "K = 2\n",
      "44319.28314607627 \t 35.38844299316406 \t 44312.71267606085 \t 14.70433759689331\n",
      "K means:34\t\tK means ++ : 13\n",
      "44319.28314607627 \t 11.916151762008667 \t 44312.71267606085 \t 15.882797002792358\n",
      "K means:12\t\tK means ++ : 14\n",
      "44319.28314607627 \t 6.606400966644287 \t 44319.28314607627 \t 11.67122769355774\n",
      "K means:6\t\tK means ++ : 11\n",
      "44319.28314607627 \t 12.270831108093262 \t 44319.28314607627 \t 10.517966508865356\n",
      "K means:12\t\tK means ++ : 10\n",
      "44319.28314607627 \t 6.675865411758423 \t 44312.71267606085 \t 14.608988046646118\n",
      "K means:6\t\tK means ++ : 15\n",
      "44312.71267606085 \t 11.853606224060059 \t 44319.28314607627 \t 34.26970839500427\n",
      "K means:13\t\tK means ++ : 39\n",
      "44319.28314607627 \t 30.29027533531189 \t 44312.71267606085 \t 10.08854079246521\n",
      "K means:34\t\tK means ++ : 10\n",
      "44319.28314607627 \t 31.863935708999634 \t 44312.71267606085 \t 14.45273756980896\n",
      "K means:33\t\tK means ++ : 15\n",
      "44312.71267606085 \t 12.341732025146484 \t 44312.71267606085 \t 17.05551028251648\n",
      "K means:11\t\tK means ++ : 17\n",
      "44319.28314607627 \t 12.545369625091553 \t 44319.28314607627 \t 22.120055198669434\n",
      "K means:12\t\tK means ++ : 24\n",
      "####################################################################################################\n",
      "K = 6\n",
      "21276.015210807847 \t 99.04386854171753 \t 19812.605284110385 \t 42.197755098342896\n",
      "K means:44\t\tK means ++ : 14\n",
      "20135.5652803111 \t 34.41782546043396 \t 19812.908797429318 \t 40.40475654602051\n",
      "K means:12\t\tK means ++ : 8\n",
      "20136.41255830878 \t 37.36150789260864 \t 21169.915857604043 \t 58.158283710479736\n",
      "K means:11\t\tK means ++ : 14\n",
      "21276.015210807847 \t 122.51527690887451 \t 21171.599379057676 \t 63.790136098861694\n",
      "K means:42\t\tK means ++ : 13\n",
      "19812.605284110385 \t 44.91774940490723 \t 19812.908797429318 \t 36.049254179000854\n",
      "K means:15\t\tK means ++ : 9\n",
      "19812.908797429318 \t 55.97374129295349 \t 20697.808680385762 \t 51.07107329368591\n",
      "K means:18\t\tK means ++ : 11\n",
      "19812.605284110385 \t 40.639495611190796 \t 20136.41255830878 \t 50.29189395904541\n",
      "K means:11\t\tK means ++ : 11\n",
      "20134.838426999428 \t 29.423312425613403 \t 19812.908797429318 \t 40.52815270423889\n",
      "K means:8\t\tK means ++ : 12\n",
      "19812.605284110385 \t 35.17109227180481 \t 21168.92344297479 \t 47.38979959487915\n",
      "K means:9\t\tK means ++ : 12\n",
      "21276.015210807847 \t 83.84830904006958 \t 19813.076308335458 \t 32.21016597747803\n",
      "K means:28\t\tK means ++ : 6\n",
      "####################################################################################################\n",
      "K = 10\n",
      "14265.198276996318 \t 100.52404117584229 \t 15254.762126898459 \t 115.64578342437744\n",
      "K means:20\t\tK means ++ : 19\n",
      "14329.535377146654 \t 94.44510436058044 \t 14366.414779770428 \t 149.21987009048462\n",
      "K means:20\t\tK means ++ : 25\n",
      "14381.013942992166 \t 71.25256872177124 \t 14208.619272309888 \t 152.63731217384338\n",
      "K means:13\t\tK means ++ : 24\n",
      "15329.200945353874 \t 73.91073060035706 \t 14534.916208893494 \t 85.56799244880676\n",
      "K means:19\t\tK means ++ : 21\n",
      "14375.029173856241 \t 107.96791291236877 \t 14832.317029637627 \t 84.46798872947693\n",
      "K means:35\t\tK means ++ : 21\n",
      "14458.647555566948 \t 92.40792465209961 \t 14541.508661862284 \t 214.29191899299622\n",
      "K means:30\t\tK means ++ : 64\n",
      "14265.081614898798 \t 76.91196775436401 \t 14714.883230596908 \t 74.06796526908875\n",
      "K means:24\t\tK means ++ : 23\n",
      "14210.181358487189 \t 83.77996182441711 \t 14583.772799115004 \t 45.40796685218811\n",
      "K means:33\t\tK means ++ : 11\n",
      "14298.029542807792 \t 161.8423774242401 \t 14383.878004599828 \t 94.71991920471191\n",
      "K means:54\t\tK means ++ : 27\n",
      "14332.317885083332 \t 112.72797226905823 \t 14674.874588502658 \t 96.52795839309692\n",
      "K means:41\t\tK means ++ : 28\n",
      "####################################################################################################\n",
      "K = 14\n",
      "12892.273195104066 \t 309.36269330978394 \t 12925.518757462887 \t 144.06792664527893\n",
      "K means:82\t\tK means ++ : 31\n",
      "13041.022194146066 \t 85.91379165649414 \t 13093.329246138064 \t 117.54069352149963\n",
      "K means:25\t\tK means ++ : 32\n",
      "13303.650559480764 \t 77.9585473537445 \t 13150.532794768827 \t 133.80314111709595\n",
      "K means:25\t\tK means ++ : 36\n",
      "13058.324679044465 \t 141.02788090705872 \t 13168.958735517404 \t 97.18809032440186\n",
      "K means:47\t\tK means ++ : 24\n",
      "12908.492079789688 \t 82.30689024925232 \t 13270.802185925548 \t 95.12061715126038\n",
      "K means:27\t\tK means ++ : 23\n",
      "12901.062319941517 \t 131.94513988494873 \t 13259.351866907447 \t 129.95845746994019\n",
      "K means:44\t\tK means ++ : 35\n",
      "12870.761236588218 \t 153.78346705436707 \t 13136.86565240764 \t 189.6278796195984\n",
      "K means:52\t\tK means ++ : 56\n",
      "12787.619823516798 \t 75.39440751075745 \t 12798.766515907686 \t 142.91081261634827\n",
      "K means:24\t\tK means ++ : 39\n",
      "13350.57369523953 \t 83.3448474407196 \t 12873.003097037514 \t 229.71708178520203\n",
      "K means:27\t\tK means ++ : 67\n",
      "13269.042851688471 \t 186.718190908432 \t 13130.774806447316 \t 127.71370339393616\n",
      "K means:56\t\tK means ++ : 30\n",
      "####################################################################################################\n",
      "K = 18\n",
      "11857.105822249303 \t 129.50111770629883 \t 12158.05251341588 \t 215.9344916343689\n",
      "K means:29\t\tK means ++ : 41\n",
      "11893.739119831418 \t 226.21166372299194 \t 11960.329379195511 \t 165.24796867370605\n",
      "K means:54\t\tK means ++ : 30\n",
      "11817.978216807882 \t 184.08470916748047 \t 11764.74781344663 \t 142.42718243598938\n",
      "K means:48\t\tK means ++ : 26\n",
      "12126.875430770146 \t 168.67590475082397 \t 11854.929970730813 \t 116.78085541725159\n",
      "K means:44\t\tK means ++ : 19\n",
      "11922.18774593814 \t 129.04404592514038 \t 11786.412223250336 \t 224.9763810634613\n",
      "K means:33\t\tK means ++ : 49\n",
      "11886.558104380994 \t 167.93088960647583 \t 12014.03039820357 \t 163.5727186203003\n",
      "K means:43\t\tK means ++ : 32\n",
      "11823.047561972391 \t 123.68024396896362 \t 12086.450933434407 \t 183.36359882354736\n",
      "K means:32\t\tK means ++ : 39\n",
      "11749.790834292893 \t 91.89826774597168 \t 12052.668121730967 \t 194.6734323501587\n",
      "K means:23\t\tK means ++ : 40\n",
      "11903.946780531296 \t 225.7554292678833 \t 11960.78104206745 \t 166.64457821846008\n",
      "K means:61\t\tK means ++ : 34\n",
      "11834.988916836177 \t 82.05652499198914 \t 11846.475386674909 \t 205.8145933151245\n",
      "K means:21\t\tK means ++ : 45\n"
     ]
    }
   ],
   "source": [
    "cost_kmeans = []\n",
    "cost_Dsq = []\n",
    "t1, t2 = [], []\n",
    "Noiter_kmeans, Noiter_Dsq = [], []\n",
    "k = 2\n",
    "count = 0\n",
    "while k < 19:\n",
    "    print(\"#\"*100)\n",
    "    print(\"K = {}\".format(k))\n",
    "    for i in range(10):\n",
    "        start_time = time.time()\n",
    "        a, b = k_means(data, k)\n",
    "        Noiter_kmeans.append(b)\n",
    "        cost_kmeans.append(a)\n",
    "        t1.append(time.time() - start_time)\n",
    "        start_time2 = time.time()\n",
    "        e, f = k_means_Dsq(data, k)\n",
    "        Noiter_Dsq.append(f)\n",
    "        cost_Dsq.append(e)\n",
    "        t2.append(time.time() - start_time2)\n",
    "        print(cost_kmeans[count*10+i], \"\\t\", t1[count*10+i],\n",
    "              \"\\t\", cost_Dsq[count*10+i], \"\\t\", t2[count*10+i])\n",
    "        print(\"K means:{0}\\t\\tK means ++ : {1}\".format(b, f))\n",
    "\n",
    "    k += 4\n",
    "    count += 1"
   ]
  },
  {
   "cell_type": "code",
   "execution_count": 29,
   "metadata": {},
   "outputs": [],
   "source": [
    "NoCluster = [2, 6, 10, 14, 18]\n",
    "k_meansAvg, DsqAvg, k_meansMin, DsqMin, k_meansAvgI, DsqAvgI = [], [], [], [], [], []\n",
    "k_meansAvgT, DsqAvgT = [], []\n",
    "c = 0\n",
    "k = 2\n",
    "while k < 19:\n",
    "    k_meansAvg.append(np.mean(cost_kmeans[c*10:(c+1)*10]))\n",
    "    k_meansAvgT.append(np.mean(t1[c*10:(c+1)*10]))\n",
    "    DsqAvg.append(np.mean(cost_Dsq[c*10:(c+1)*10]))\n",
    "    DsqAvgT.append(np.mean(t2[c*10:(c+1)*10])) \n",
    "    k_meansAvgI.append(np.mean(Noiter_kmeans[c*10:(c+1)*10]))\n",
    "    DsqAvgI.append(np.mean(Noiter_Dsq[c*10:(c+1)*10]))\n",
    "    k_meansMin.append(np.min(cost_kmeans[c*10:(c+1)*10])) \n",
    "    DsqMin.append(np.min(cost_Dsq[c*10:(c+1)*10]))\n",
    "    k += 4\n",
    "    c += 1"
   ]
  },
  {
   "cell_type": "code",
   "execution_count": 30,
   "metadata": {},
   "outputs": [
    {
     "data": {
      "text/html": [
       "<div>\n",
       "<style scoped>\n",
       "    .dataframe tbody tr th:only-of-type {\n",
       "        vertical-align: middle;\n",
       "    }\n",
       "\n",
       "    .dataframe tbody tr th {\n",
       "        vertical-align: top;\n",
       "    }\n",
       "\n",
       "    .dataframe thead th {\n",
       "        text-align: right;\n",
       "    }\n",
       "</style>\n",
       "<table border=\"1\" class=\"dataframe\">\n",
       "  <thead>\n",
       "    <tr style=\"text-align: right;\">\n",
       "      <th></th>\n",
       "      <th>Cluster No.</th>\n",
       "      <th>k_meansAvg</th>\n",
       "      <th>k_means ++ Avg</th>\n",
       "      <th>k_means Min</th>\n",
       "      <th>k_means ++ Min</th>\n",
       "      <th>k_meansAvgT</th>\n",
       "      <th>k_means++AvgT</th>\n",
       "      <th>k_meansAvgI</th>\n",
       "      <th>k_means++AvgI</th>\n",
       "    </tr>\n",
       "  </thead>\n",
       "  <tbody>\n",
       "    <tr>\n",
       "      <th>0</th>\n",
       "      <td>2</td>\n",
       "      <td>44317.969052</td>\n",
       "      <td>44315.340864</td>\n",
       "      <td>44312.712676</td>\n",
       "      <td>44312.712676</td>\n",
       "      <td>17.175261</td>\n",
       "      <td>16.537187</td>\n",
       "      <td>17.3</td>\n",
       "      <td>16.8</td>\n",
       "    </tr>\n",
       "    <tr>\n",
       "      <th>1</th>\n",
       "      <td>6</td>\n",
       "      <td>20348.558655</td>\n",
       "      <td>20340.906790</td>\n",
       "      <td>19812.605284</td>\n",
       "      <td>19812.605284</td>\n",
       "      <td>58.331218</td>\n",
       "      <td>46.209127</td>\n",
       "      <td>19.8</td>\n",
       "      <td>11.0</td>\n",
       "    </tr>\n",
       "    <tr>\n",
       "      <th>2</th>\n",
       "      <td>10</td>\n",
       "      <td>14424.423567</td>\n",
       "      <td>14609.594670</td>\n",
       "      <td>14210.181358</td>\n",
       "      <td>14208.619272</td>\n",
       "      <td>97.577056</td>\n",
       "      <td>111.255468</td>\n",
       "      <td>28.9</td>\n",
       "      <td>26.3</td>\n",
       "    </tr>\n",
       "    <tr>\n",
       "      <th>3</th>\n",
       "      <td>14</td>\n",
       "      <td>13038.282263</td>\n",
       "      <td>13080.790366</td>\n",
       "      <td>12787.619824</td>\n",
       "      <td>12798.766516</td>\n",
       "      <td>132.775586</td>\n",
       "      <td>140.764840</td>\n",
       "      <td>40.9</td>\n",
       "      <td>37.3</td>\n",
       "    </tr>\n",
       "    <tr>\n",
       "      <th>4</th>\n",
       "      <td>18</td>\n",
       "      <td>11881.621853</td>\n",
       "      <td>11948.487778</td>\n",
       "      <td>11749.790834</td>\n",
       "      <td>11764.747813</td>\n",
       "      <td>152.883880</td>\n",
       "      <td>177.943580</td>\n",
       "      <td>38.8</td>\n",
       "      <td>35.5</td>\n",
       "    </tr>\n",
       "  </tbody>\n",
       "</table>\n",
       "</div>"
      ],
      "text/plain": [
       "   Cluster No.    k_meansAvg  k_means ++ Avg   k_means Min  k_means ++ Min  \\\n",
       "0            2  44317.969052    44315.340864  44312.712676    44312.712676   \n",
       "1            6  20348.558655    20340.906790  19812.605284    19812.605284   \n",
       "2           10  14424.423567    14609.594670  14210.181358    14208.619272   \n",
       "3           14  13038.282263    13080.790366  12787.619824    12798.766516   \n",
       "4           18  11881.621853    11948.487778  11749.790834    11764.747813   \n",
       "\n",
       "   k_meansAvgT  k_means++AvgT  k_meansAvgI  k_means++AvgI  \n",
       "0    17.175261      16.537187         17.3           16.8  \n",
       "1    58.331218      46.209127         19.8           11.0  \n",
       "2    97.577056     111.255468         28.9           26.3  \n",
       "3   132.775586     140.764840         40.9           37.3  \n",
       "4   152.883880     177.943580         38.8           35.5  "
      ]
     },
     "execution_count": 30,
     "metadata": {},
     "output_type": "execute_result"
    }
   ],
   "source": [
    "Results = pd.DataFrame()\n",
    "Results[\"Cluster No.\"] = NoCluster\n",
    "Results[\"k_meansAvg\"] = k_meansAvg\n",
    "Results[\"k_means ++ Avg\"] = DsqAvg\n",
    "Results[\"k_means Min\"] = k_meansMin\n",
    "Results[\"k_means ++ Min\"] = DsqMin\n",
    "Results[\"k_meansAvgT\"] = k_meansAvgT \n",
    "Results[\"k_means++AvgT\"] = DsqAvgT\n",
    "Results[\"k_meansAvgI\"] = k_meansAvgI\n",
    "Results[\"k_means++AvgI\"] = DsqAvgI\n",
    "Results"
   ]
  },
  {
   "cell_type": "code",
   "execution_count": 32,
   "metadata": {},
   "outputs": [],
   "source": [
    "opt_cen = pd.DataFrame(np.matrix([[10, 10], [-5, -7], [12, -2], [1, 9], [17, -0.5],[26, 18], [-15, 15], [0, -9], [0, -20], [22, -20]]),columns=['X', 'Y'])\n",
    "optimum = euclid_dist(data, opt_cen)"
   ]
  },
  {
   "cell_type": "code",
   "execution_count": 33,
   "metadata": {},
   "outputs": [
    {
     "data": {
      "text/plain": [
       "14237.190853634589"
      ]
     },
     "execution_count": 33,
     "metadata": {},
     "output_type": "execute_result"
    }
   ],
   "source": [
    "opt_cost = np.sum(optimum)\n",
    "opt_cost"
   ]
  },
  {
   "cell_type": "code",
   "execution_count": 34,
   "metadata": {},
   "outputs": [
    {
     "data": {
      "text/plain": [
       "[15254.762126898459,\n",
       " 14366.414779770428,\n",
       " 14208.619272309888,\n",
       " 14534.916208893494,\n",
       " 14832.317029637627,\n",
       " 14541.508661862284,\n",
       " 14714.883230596908,\n",
       " 14583.772799115004,\n",
       " 14383.878004599828,\n",
       " 14674.874588502658]"
      ]
     },
     "execution_count": 34,
     "metadata": {},
     "output_type": "execute_result"
    }
   ],
   "source": [
    "cost_Dsq[20:30]"
   ]
  },
  {
   "cell_type": "code",
   "execution_count": 2,
   "metadata": {},
   "outputs": [],
   "source": [
    "nv =cost_Dsq[20:30]-opt_cost\n",
    "AvgDev = nv/10\n",
    "AvgDev "
   ]
  },
  {
   "cell_type": "code",
   "execution_count": null,
   "metadata": {},
   "outputs": [],
   "source": []
  }
 ],
 "metadata": {
  "interpreter": {
   "hash": "9c1d554bbbf5939e85784b545543330c9c662cffcdb9e2fa11929ee44fe0ea0d"
  },
  "kernelspec": {
   "display_name": "Python 3.8.8 64-bit ('virtPenv': conda)",
   "language": "python",
   "name": "python3"
  },
  "language_info": {
   "codemirror_mode": {
    "name": "ipython",
    "version": 3
   },
   "file_extension": ".py",
   "mimetype": "text/x-python",
   "name": "python",
   "nbconvert_exporter": "python",
   "pygments_lexer": "ipython3",
   "version": "3.8.8"
  },
  "orig_nbformat": 4
 },
 "nbformat": 4,
 "nbformat_minor": 2
}
